{
  "cells": [
    {
      "cell_type": "markdown",
      "metadata": {
        "id": "iF1yRpTqq_X1"
      },
      "source": [
        "# Training / Fine-tuning a Dialogue model\n",
        "\n",
        "We are going to look at model fine-tuning by taking a general purpose language model and fine-tuning it to perform dialogue in the style of the 1990s TV series Friends"
      ]
    },
    {
      "cell_type": "code",
      "execution_count": null,
      "metadata": {
        "id": "ULhlBcDPq_X2",
        "tags": []
      },
      "outputs": [],
      "source": [
        "!pip install accelerate -U\n",
        "!pip install transformers -U\n",
        "!pip install datasets\n",
        "!pip install py7zr\n",
        "!pip install tiktoken\n",
        "!pip install sentencepiece\n",
        "!pip install evaluate\n",
        "!pip install rouge_score"
      ]
    },
    {
      "cell_type": "code",
      "execution_count": null,
      "metadata": {
        "id": "JBdlfSheCGkv"
      },
      "outputs": [],
      "source": [
        "import transformers\n",
        "from transformers import pipeline, set_seed\n",
        "import datasets\n",
        "from datasets import load_dataset\n",
        "import py7zr\n",
        "import accelerate\n",
        "import pandas as pd\n",
        "import torch\n",
        "import numpy as np"
      ]
    },
    {
      "cell_type": "code",
      "source": [
        "dataset_friends = load_dataset(\"michellejieli/friends_dataset\")\n",
        "context=[\"BEGIN\"]\n",
        "context.extend(dataset_friends[\"train\"][0:14502][\"text\"])\n",
        "dataset_friends=datasets.Dataset.from_pandas(pd.DataFrame(np.array([context,dataset_friends[\"train\"][0:14503][\"text\"]]).T.tolist(),columns=[\"context\",\"response\"]))\n",
        "dataset_friends=dataset_friends.train_test_split(0.2)"
      ],
      "metadata": {
        "id": "6BW4gP77Vh8w"
      },
      "execution_count": null,
      "outputs": []
    },
    {
      "cell_type": "code",
      "source": [
        "dataset_friends"
      ],
      "metadata": {
        "id": "WDR5uiShJZOM"
      },
      "execution_count": null,
      "outputs": []
    },
    {
      "cell_type": "code",
      "source": [
        "from transformers import AutoTokenizer, BartForConditionalGeneration\n",
        "device=\"cuda\"\n",
        "tokenizer = AutoTokenizer.from_pretrained(\"facebook/bart-base\")\n",
        "model = BartForConditionalGeneration.from_pretrained(\"facebook/bart-base\").to(device)"
      ],
      "metadata": {
        "id": "2a-cRkyX9Cdo"
      },
      "execution_count": null,
      "outputs": []
    },
    {
      "cell_type": "code",
      "execution_count": null,
      "metadata": {
        "id": "GshMe2cbYBZQ"
      },
      "outputs": [],
      "source": [
        "torch.cuda.empty_cache()\n",
        "input_ = tokenizer.batch_encode_plus(dataset_friends[\"test\"][0:5][\"context\"], max_length=1024, pad_to_max_length=True,truncation=True, padding='longest', return_tensors=\"pt\")\n",
        "input_ids = input_['input_ids']\n",
        "input_mask = input_['attention_mask']\n",
        "responses = model.generate(input_ids=input_ids.to(device),\n",
        "                         attention_mask=input_mask.to(device),\n",
        "                         num_beams=100,\n",
        "                         no_repeat_ngram_size=2,\n",
        "                         early_stopping=True,\n",
        "                         num_return_sequences=5,\n",
        "                         max_length=1024)\n",
        "responses = tokenizer.batch_decode(responses, skip_special_tokens=True)\n"
      ]
    },
    {
      "cell_type": "code",
      "source": [
        "dataset_friends[\"test\"][0:5][\"context\"]"
      ],
      "metadata": {
        "id": "SvpCKizkxIBH"
      },
      "execution_count": null,
      "outputs": []
    },
    {
      "cell_type": "code",
      "execution_count": null,
      "metadata": {
        "id": "ix0EoR9uY8Gp"
      },
      "outputs": [],
      "source": [
        "print(responses)"
      ]
    },
    {
      "cell_type": "code",
      "source": [
        "dataset_friends[\"test\"][0:5][\"response\"]"
      ],
      "metadata": {
        "id": "n2EOa_zCbcyO"
      },
      "execution_count": null,
      "outputs": []
    },
    {
      "cell_type": "markdown",
      "metadata": {
        "id": "N8QVrtgACGk1"
      },
      "source": [
        "### Fine-Tuning"
      ]
    },
    {
      "cell_type": "markdown",
      "metadata": {
        "id": "UzpwXQAr2WjH"
      },
      "source": [
        "To fine tune model uncomment the next five blocks of code and run. Note though that it will take a good few hours to run."
      ]
    },
    {
      "cell_type": "code",
      "execution_count": null,
      "metadata": {
        "id": "f3pj3VNZCGk1"
      },
      "outputs": [],
      "source": [
        "#def convert_examples_to_features(example_batch):\n",
        "#    input_encodings = tokenizer(example_batch[\"context\"], max_length=1024,\n",
        "#                                truncation=True)\n",
        "#\n",
        "#    with tokenizer.as_target_tokenizer():\n",
        "#        target_encodings = tokenizer(example_batch[\"response\"], max_length=1024,\n",
        "#                                     truncation=True)\n",
        "#\n",
        "#    return {\"input_ids\": input_encodings[\"input_ids\"],\n",
        "#            \"attention_mask\": input_encodings[\"attention_mask\"],\n",
        "#            \"labels\": target_encodings[\"input_ids\"]}\n",
        "#\n",
        "# dataset_friends_pt = dataset_friends.map(convert_examples_to_features,\n",
        "#                                       batched=True)\n",
        "#columns = [\"input_ids\", \"labels\", \"attention_mask\"]\n",
        "#dataset_friends_pt.set_format(type=\"torch\", columns=columns)"
      ]
    },
    {
      "cell_type": "code",
      "execution_count": null,
      "metadata": {
        "id": "KE2vmLRgCGk1"
      },
      "outputs": [],
      "source": [
        "#from transformers import DataCollatorForSeq2Seq, TrainingArguments, Trainer\n",
        "\n",
        "#seq2seq_data_collator = DataCollatorForSeq2Seq(tokenizer, model=model)\n",
        "\n",
        "#training_args = TrainingArguments(\n",
        "#    output_dir='dialogue-friends', num_train_epochs=6, warmup_steps=500,\n",
        "#    per_device_train_batch_size=1, per_device_eval_batch_size=1,\n",
        "#    weight_decay=0.01, logging_steps=10, push_to_hub=False,\n",
        "#    evaluation_strategy='steps', eval_steps=250, save_steps=1e6,gradient_accumulation_steps=128)\n",
        "\n",
        "#trainer = Trainer(model=model, args=training_args,\n",
        "#                  tokenizer=tokenizer, data_collator=seq2seq_data_collator,\n",
        "#                  train_dataset=dataset_friends_pt[\"train\"],\n",
        "#                  eval_dataset=dataset_friends_pt[\"test\"])"
      ]
    },
    {
      "cell_type": "code",
      "execution_count": null,
      "metadata": {
        "id": "efPKAIdJ2WjH"
      },
      "outputs": [],
      "source": [
        "#!pip install wandb"
      ]
    },
    {
      "cell_type": "code",
      "execution_count": null,
      "metadata": {
        "id": "MnU37S9eCGk2"
      },
      "outputs": [],
      "source": [
        "#import wandb\n",
        "#from huggingface_hub import notebook_login\n",
        "\n",
        "#notebook_login()\n",
        "#wandb.init(mode=\"disabled\")"
      ]
    },
    {
      "cell_type": "code",
      "execution_count": null,
      "metadata": {
        "id": "HcHfDkIICGk2"
      },
      "outputs": [],
      "source": [
        "# hide_output\n",
        "#torch.cuda.empty_cache()\n",
        "#trainer.train()\n",
        "# To save your fine-tuned model:\n",
        "#trainer.save_model(\"dialogue-summ-model-bart\")"
      ]
    },
    {
      "cell_type": "markdown",
      "source": [
        "To use a pre-tuned model run the following"
      ],
      "metadata": {
        "id": "fWb6wZlcpOl0"
      }
    },
    {
      "cell_type": "code",
      "source": [
        "!gdown 1CN3inZiDMUlFo5DKskvFfLBBVCFC5NCa\n",
        "\n",
        "!gunzip dialogue-model-bart-12e.tar.gz\n",
        "!tar xf dialogue-model-bart-12e.tar"
      ],
      "metadata": {
        "id": "OG225r5ppF2a"
      },
      "execution_count": null,
      "outputs": []
    },
    {
      "cell_type": "code",
      "source": [
        "from transformers import AutoTokenizer, BartForConditionalGeneration\n",
        "model_ckpt=\"./dialogue-summ-model-bart-12e\"\n",
        "device=\"cuda\"\n",
        "tokenizer_ft = AutoTokenizer.from_pretrained(model_ckpt)\n",
        "model_ft = BartForConditionalGeneration.from_pretrained(model_ckpt).to(device)"
      ],
      "metadata": {
        "id": "PYE4KEP8p0Tg"
      },
      "execution_count": null,
      "outputs": []
    },
    {
      "cell_type": "markdown",
      "metadata": {
        "id": "ikaKcLsfCGk2"
      },
      "source": [
        "### Generating And Evaluating Dialogue"
      ]
    },
    {
      "cell_type": "code",
      "execution_count": null,
      "metadata": {
        "id": "ak5yqNfJYBZR"
      },
      "outputs": [],
      "source": [
        "torch.cuda.empty_cache()\n",
        "input_ = tokenizer_ft.batch_encode_plus(dataset_friends[\"test\"][0:5][\"context\"], max_length=1024, pad_to_max_length=True,truncation=True, padding='longest', return_tensors=\"pt\")\n",
        "input_ids = input_['input_ids']\n",
        "input_mask = input_['attention_mask']\n",
        "responses_ft = model_ft.generate(input_ids=input_ids.to(device),\n",
        "                         attention_mask=input_mask.to(device),\n",
        "                         num_beams=100,\n",
        "                         no_repeat_ngram_size=2,\n",
        "                         early_stopping=True,\n",
        "                         num_return_sequences=10,\n",
        "                         max_length=1024,\n",
        "                          )\n",
        "responses_ft = tokenizer_ft.batch_decode(responses_ft, skip_special_tokens=True)"
      ]
    },
    {
      "cell_type": "code",
      "source": [
        "dataset_friends[\"test\"][0:5][\"context\"]"
      ],
      "metadata": {
        "id": "av690Y92ZjRM"
      },
      "execution_count": null,
      "outputs": []
    },
    {
      "cell_type": "code",
      "source": [
        "responses_ft"
      ],
      "metadata": {
        "id": "nJOGD1OvhOgR"
      },
      "execution_count": null,
      "outputs": []
    },
    {
      "cell_type": "code",
      "execution_count": null,
      "metadata": {
        "id": "iEvcLZSexJWg",
        "tags": []
      },
      "outputs": [],
      "source": [
        "reference=dataset_friends[\"test\"][0:5][\"response\"]\n",
        "reference\n"
      ]
    }
  ],
  "metadata": {
    "accelerator": "GPU",
    "colab": {
      "gpuType": "T4",
      "machine_shape": "hm",
      "provenance": []
    },
    "kernelspec": {
      "display_name": "Python 3",
      "name": "python3"
    },
    "language_info": {
      "codemirror_mode": {
        "name": "ipython",
        "version": 3
      },
      "file_extension": ".py",
      "mimetype": "text/x-python",
      "name": "python",
      "nbconvert_exporter": "python",
      "pygments_lexer": "ipython3",
      "version": "3.12.4"
    }
  },
  "nbformat": 4,
  "nbformat_minor": 0
}