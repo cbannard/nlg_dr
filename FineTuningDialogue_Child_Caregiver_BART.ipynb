{
  "cells": [
    {
      "cell_type": "markdown",
      "metadata": {
        "id": "iF1yRpTqq_X1"
      },
      "source": [
        "# Training / Fine-tuning a Dialogue model based on a toddler\n",
        "\n",
        "We are going to look at model fine-tuning by taking a general purpose language model and fine-tuning it to perform dialogue in the style of a toddler interacting with their caregiver"
      ]
    },
    {
      "cell_type": "code",
      "execution_count": null,
      "metadata": {
        "id": "ULhlBcDPq_X2",
        "tags": []
      },
      "outputs": [],
      "source": [
        "!pip install accelerate -U\n",
        "!pip install transformers -U\n",
        "!pip install datasets\n",
        "!pip install py7zr\n",
        "!pip install tiktoken\n",
        "!pip install sentencepiece\n",
        "!pip install evaluate\n",
        "!pip install rouge_score"
      ]
    },
    {
      "cell_type": "code",
      "execution_count": null,
      "metadata": {
        "id": "JBdlfSheCGkv"
      },
      "outputs": [],
      "source": [
        "import transformers\n",
        "from transformers import pipeline, set_seed\n",
        "import py7zr\n",
        "import accelerate\n",
        "import pandas as pd\n",
        "import torch\n",
        "import numpy as np"
      ]
    },
    {
      "cell_type": "markdown",
      "source": [
        "Download training and test data - selected and preprocessed pairs of caregiver utterances with child responses from this corpus:\n",
        "\n",
        "https://childes.talkbank.org/access/Eng-UK/Thomas.html"
      ],
      "metadata": {
        "id": "XVVHicxoWWpB"
      }
    },
    {
      "cell_type": "code",
      "source": [
        "!gdown 1iY6xKKp455CCtoMBsONIQKtdarxchB-J"
      ],
      "metadata": {
        "id": "s4UW0kFvUSrJ"
      },
      "execution_count": null,
      "outputs": []
    },
    {
      "cell_type": "code",
      "source": [
        "df = pd.read_csv(\"thomas-clean.csv\")\n",
        "df=df.dropna()"
      ],
      "metadata": {
        "id": "dSDxm4khhENV"
      },
      "execution_count": null,
      "outputs": []
    },
    {
      "cell_type": "code",
      "source": [
        "from sklearn.model_selection import train_test_split\n",
        "from datasets import Dataset, DatasetDict\n",
        "ds=Dataset.from_pandas(df)\n",
        "ds=ds.train_test_split(test_size=0.001,seed=99)\n"
      ],
      "metadata": {
        "id": "3aJENW9ZnIrl"
      },
      "execution_count": null,
      "outputs": []
    },
    {
      "cell_type": "code",
      "source": [
        "from transformers import AutoTokenizer, BartForConditionalGeneration\n",
        "device=\"cuda\"\n",
        "tokenizer = AutoTokenizer.from_pretrained(\"facebook/bart-base\")\n",
        "model = BartForConditionalGeneration.from_pretrained(\"facebook/bart-base\").to(device)"
      ],
      "metadata": {
        "id": "2a-cRkyX9Cdo"
      },
      "execution_count": null,
      "outputs": []
    },
    {
      "cell_type": "markdown",
      "source": [
        "Update the model vocabulary to include words from the child-caregiver speech corpus"
      ],
      "metadata": {
        "id": "PD3lIGMLWyIT"
      }
    },
    {
      "cell_type": "code",
      "source": [
        "text=ds[\"train\"][:][\"CONTEXT\"]\n",
        "text.extend(ds[\"test\"][:][\"CONTEXT\"])\n",
        "text.extend(ds[\"train\"][:][\"RESPONSE\"])\n",
        "text.extend(ds[\"test\"][:][\"RESPONSE\"])\n",
        "\n",
        "tokenset = list(set(str.split(' '.join(text))))\n",
        "print(len(tokenizer))  # 28996\n",
        "tokenizer.add_tokens(tokenset)\n",
        "print(len(tokenizer))  # 28997\n",
        "\n",
        "model.resize_token_embeddings(len(tokenizer))"
      ],
      "metadata": {
        "id": "LzelPjQqzCxU"
      },
      "execution_count": null,
      "outputs": []
    },
    {
      "cell_type": "markdown",
      "source": [
        "Examine the performance of the untuned BART model in producing responses to the caregiver utterances in the test data"
      ],
      "metadata": {
        "id": "45WEolnAW8MA"
      }
    },
    {
      "cell_type": "code",
      "execution_count": null,
      "metadata": {
        "id": "GshMe2cbYBZQ"
      },
      "outputs": [],
      "source": [
        "torch.cuda.empty_cache()\n",
        "vanilla_predictions=[]\n",
        "for i in range(ds[\"test\"].shape[0]):\n",
        "  input_ = tokenizer.batch_encode_plus(ds[\"test\"][i:i+1][\"CONTEXT\"], max_length=1024, pad_to_max_length=True,truncation=True, padding='longest', return_tensors=\"pt\")\n",
        "  input_ids = input_['input_ids']\n",
        "  input_mask = input_['attention_mask']\n",
        "  responses = model.generate(input_ids=input_ids.to(device),\n",
        "                         attention_mask=input_mask.to(device),\n",
        "                         num_beams=100,\n",
        "                         no_repeat_ngram_size=2,\n",
        "                         early_stopping=True,\n",
        "                         num_return_sequences=1,\n",
        "                         max_length=1024)\n",
        "  vanilla_predictions.extend(tokenizer.batch_decode(responses, skip_special_tokens=True))\n"
      ]
    },
    {
      "cell_type": "code",
      "source": [
        "vanilla_predictions"
      ],
      "metadata": {
        "id": "P82lHhYSmCHE"
      },
      "execution_count": null,
      "outputs": []
    },
    {
      "cell_type": "code",
      "source": [
        "import evaluate\n",
        "references=ds[\"test\"][:][\"RESPONSE\"]\n",
        "bleu = evaluate.load(\"bleu\")\n",
        "bleu.add(predictions=str(vanilla_predictions), references=str(references))\n",
        "results = bleu.compute()\n",
        "print(results)\n"
      ],
      "metadata": {
        "id": "KvTdhf71wluN"
      },
      "execution_count": null,
      "outputs": []
    },
    {
      "cell_type": "code",
      "source": [
        "import evaluate\n",
        "references=ds[\"test\"][:][\"RESPONSE\"]\n",
        "rouge = evaluate.load(\"rouge\")\n",
        "rouge.add(predictions=str(vanilla_predictions), references=str(references))\n",
        "results = rouge.compute()\n",
        "print(results)"
      ],
      "metadata": {
        "id": "rB3rEd7kK3RS"
      },
      "execution_count": null,
      "outputs": []
    },
    {
      "cell_type": "markdown",
      "metadata": {
        "id": "N8QVrtgACGk1"
      },
      "source": [
        "### Fine-Tuning"
      ]
    },
    {
      "cell_type": "markdown",
      "metadata": {
        "id": "UzpwXQAr2WjH"
      },
      "source": [
        "To fine tune model uncomment the next five blocks of code and run. Note though that it will take a good few hours to run."
      ]
    },
    {
      "cell_type": "code",
      "execution_count": null,
      "metadata": {
        "id": "f3pj3VNZCGk1"
      },
      "outputs": [],
      "source": [
        "#def convert_examples_to_features(example_batch):\n",
        "#    input_encodings = tokenizer(example_batch[\"CONTEXT\"], max_length=1024,\n",
        "#                                truncation=True)\n",
        "\n",
        "#    with tokenizer.as_target_tokenizer():\n",
        "#        target_encodings = tokenizer(example_batch[\"RESPONSE\"], max_length=1024,\n",
        "#                                     truncation=True)\n",
        "\n",
        "#    return {\"input_ids\": input_encodings[\"input_ids\"],\n",
        "#            \"attention_mask\": input_encodings[\"attention_mask\"],\n",
        "#            \"labels\": target_encodings[\"input_ids\"]}\n",
        "\n",
        "#dataset_pt = ds.map(convert_examples_to_features,\n",
        "#                                       batched=True)\n",
        "#columns = [\"input_ids\", \"labels\", \"attention_mask\"]\n",
        "#dataset_pt.set_format(type=\"torch\", columns=columns)"
      ]
    },
    {
      "cell_type": "code",
      "execution_count": null,
      "metadata": {
        "id": "KE2vmLRgCGk1"
      },
      "outputs": [],
      "source": [
        "#from transformers import DataCollatorForSeq2Seq, TrainingArguments, Trainer\n",
        "\n",
        "#seq2seq_data_collator = DataCollatorForSeq2Seq(tokenizer, model=model)\n",
        "\n",
        "#training_args = TrainingArguments(\n",
        "#    output_dir='dialogue-thomas', num_train_epochs=6, warmup_steps=500,\n",
        "#    per_device_train_batch_size=1, per_device_eval_batch_size=1,\n",
        "#    weight_decay=0.01, logging_steps=10, push_to_hub=False,\n",
        "#    eval_steps=250, save_steps=1e6,gradient_accumulation_steps=128)\n",
        "\n",
        "#trainer = Trainer(model=model, args=training_args,\n",
        "#                  tokenizer=tokenizer, data_collator=seq2seq_data_collator,\n",
        "#                  train_dataset=dataset_pt[\"train\"],\n",
        "#                  eval_dataset=dataset_pt[\"test\"])"
      ]
    },
    {
      "cell_type": "code",
      "execution_count": null,
      "metadata": {
        "id": "efPKAIdJ2WjH"
      },
      "outputs": [],
      "source": [
        "#!pip install wandb"
      ]
    },
    {
      "cell_type": "code",
      "execution_count": null,
      "metadata": {
        "id": "MnU37S9eCGk2"
      },
      "outputs": [],
      "source": [
        "#import wandb\n",
        "#from huggingface_hub import notebook_login\n",
        "\n",
        "#notebook_login()\n",
        "#wandb.init(mode=\"disabled\")"
      ]
    },
    {
      "cell_type": "code",
      "execution_count": null,
      "metadata": {
        "id": "HcHfDkIICGk2"
      },
      "outputs": [],
      "source": [
        "# hide_output\n",
        "#torch.cuda.empty_cache()\n",
        "#trainer.train()\n",
        "# To save your fine-tuned model:\n",
        "#trainer.save_model(\"dialogue-thomas-model-bart\")"
      ]
    },
    {
      "cell_type": "markdown",
      "source": [
        "To use a pre-tuned model run the following"
      ],
      "metadata": {
        "id": "fWb6wZlcpOl0"
      }
    },
    {
      "cell_type": "code",
      "source": [
        "!gdown 1iYiJtoo1cM5v5oJgKZOlRCG-zM2yGKk5\n",
        "\n",
        "!gunzip dialogue-thomas-model-bart-6e.tar.gz\n",
        "!tar xf dialogue-thomas-model-bart-6e.tar"
      ],
      "metadata": {
        "id": "OG225r5ppF2a"
      },
      "execution_count": null,
      "outputs": []
    },
    {
      "cell_type": "code",
      "source": [
        "from transformers import AutoTokenizer, BartForConditionalGeneration\n",
        "model_ckpt=\"./dialogue-thomas-model-bart-6e\"\n",
        "device=\"cuda\"\n",
        "tokenizer = AutoTokenizer.from_pretrained(model_ckpt)\n",
        "model = BartForConditionalGeneration.from_pretrained(model_ckpt).to(device)"
      ],
      "metadata": {
        "id": "PYE4KEP8p0Tg"
      },
      "execution_count": null,
      "outputs": []
    },
    {
      "cell_type": "markdown",
      "metadata": {
        "id": "ikaKcLsfCGk2"
      },
      "source": [
        "### Generating And Evaluating Dialogue"
      ]
    },
    {
      "cell_type": "code",
      "source": [
        "torch.cuda.empty_cache()\n",
        "predictions=[]\n",
        "for i in range(ds[\"test\"].shape[0]):\n",
        "  input_ = tokenizer.batch_encode_plus(ds[\"test\"][i:i+1][\"CONTEXT\"], max_length=1024, pad_to_max_length=True,truncation=True, padding='longest', return_tensors=\"pt\")\n",
        "  input_ids = input_['input_ids']\n",
        "  input_mask = input_['attention_mask']\n",
        "  responses = model.generate(input_ids=input_ids.to(device),\n",
        "                         attention_mask=input_mask.to(device),\n",
        "                         num_beams=100,\n",
        "                         no_repeat_ngram_size=2,\n",
        "                         early_stopping=True,\n",
        "                         num_return_sequences=1,\n",
        "                         max_length=1024)\n",
        "  predictions.extend(tokenizer.batch_decode(responses, skip_special_tokens=True))"
      ],
      "metadata": {
        "id": "3eb2HBLxS2T_"
      },
      "execution_count": null,
      "outputs": []
    },
    {
      "cell_type": "code",
      "source": [
        "predictions"
      ],
      "metadata": {
        "id": "v_Umtq0TV0IE"
      },
      "execution_count": null,
      "outputs": []
    },
    {
      "cell_type": "code",
      "source": [
        "import evaluate\n",
        "references=ds[\"test\"][:][\"RESPONSE\"]\n",
        "bleu = evaluate.load(\"bleu\")\n",
        "bleu.add(predictions=str(predictions), references=str(references))\n",
        "results = bleu.compute()\n",
        "print(results)"
      ],
      "metadata": {
        "id": "hpMey3NDws9d"
      },
      "execution_count": null,
      "outputs": []
    },
    {
      "cell_type": "code",
      "source": [
        "import evaluate\n",
        "references=ds[\"test\"][:][\"RESPONSE\"]\n",
        "rouge = evaluate.load(\"rouge\")\n",
        "rouge.add(predictions=str(predictions), references=str(references))\n",
        "results = rouge.compute()\n",
        "print(results)"
      ],
      "metadata": {
        "id": "9cxyws_0L0Bq"
      },
      "execution_count": null,
      "outputs": []
    }
  ],
  "metadata": {
    "accelerator": "GPU",
    "colab": {
      "gpuType": "T4",
      "machine_shape": "hm",
      "provenance": []
    },
    "kernelspec": {
      "display_name": "Python 3",
      "name": "python3"
    },
    "language_info": {
      "codemirror_mode": {
        "name": "ipython",
        "version": 3
      },
      "file_extension": ".py",
      "mimetype": "text/x-python",
      "name": "python",
      "nbconvert_exporter": "python",
      "pygments_lexer": "ipython3",
      "version": "3.12.4"
    }
  },
  "nbformat": 4,
  "nbformat_minor": 0
}