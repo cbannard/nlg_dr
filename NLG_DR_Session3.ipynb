{
 "cells": [
  {
   "cell_type": "markdown",
   "metadata": {
    "id": "fjf3PXPQRNZt"
   },
   "source": [
    "# BLEU"
   ]
  },
  {
   "cell_type": "code",
   "execution_count": 9,
   "metadata": {
    "id": "lNJ_Zc0HWx2l"
   },
   "outputs": [],
   "source": [
    "c1=\"it is a guide to action which ensures that the military always obeys the commands of the party\"\n",
    "c2=\"it is to insure the troops forever hearing the activity guidebook that party direct\""
   ]
  },
  {
   "cell_type": "code",
   "execution_count": 10,
   "metadata": {
    "id": "D4kcJhwAW-Ap"
   },
   "outputs": [],
   "source": [
    "r1=\"it is a guide to action that ensures that the military will forever heed party commands\"\n",
    "r2=\"it is the guiding principle which guarantees the military forces always being under the command of the party\"\n",
    "r3=\"it is the practical guide for the army always to heed the directions of the party\""
   ]
  },
  {
   "cell_type": "code",
   "execution_count": 5,
   "metadata": {},
   "outputs": [
    {
     "name": "stdout",
     "output_type": "stream",
     "text": [
      "Requirement already satisfied: nltk in /Users/user/anaconda3/lib/python3.10/site-packages (3.7)\n",
      "Requirement already satisfied: click in /Users/user/anaconda3/lib/python3.10/site-packages (from nltk) (8.0.4)\n",
      "Requirement already satisfied: joblib in /Users/user/anaconda3/lib/python3.10/site-packages (from nltk) (1.1.1)\n",
      "Requirement already satisfied: regex>=2021.8.3 in /Users/user/anaconda3/lib/python3.10/site-packages (from nltk) (2022.7.9)\n",
      "Requirement already satisfied: tqdm in /Users/user/anaconda3/lib/python3.10/site-packages (from nltk) (4.67.1)\n",
      "\n",
      "\u001b[1m[\u001b[0m\u001b[34;49mnotice\u001b[0m\u001b[1;39;49m]\u001b[0m\u001b[39;49m A new release of pip is available: \u001b[0m\u001b[31;49m24.3.1\u001b[0m\u001b[39;49m -> \u001b[0m\u001b[32;49m25.0.1\u001b[0m\n",
      "\u001b[1m[\u001b[0m\u001b[34;49mnotice\u001b[0m\u001b[1;39;49m]\u001b[0m\u001b[39;49m To update, run: \u001b[0m\u001b[32;49mpip install --upgrade pip\u001b[0m\n"
     ]
    }
   ],
   "source": [
    "! pip install nltk\n",
    "from nltk import word_tokenize"
   ]
  },
  {
   "cell_type": "code",
   "execution_count": 262,
   "metadata": {},
   "outputs": [],
   "source": [
    "hypothesis = word_tokenize(c1)\n",
    "reference = word_tokenize(r1)"
   ]
  },
  {
   "cell_type": "markdown",
   "metadata": {},
   "source": [
    "### Get clipped counts"
   ]
  },
  {
   "cell_type": "code",
   "execution_count": 263,
   "metadata": {
    "id": "B0xVOhjIXUbI"
   },
   "outputs": [],
   "source": [
    "from collections import defaultdict\n",
    "def get_ngrams(sentence_toks,n):\n",
    "  ngrams = defaultdict(int)  \n",
    "  for i in range(0,len(sentence_toks)-(n-1)):\n",
    "    ngrams[str.join(\" \",sentence_toks[i:i+n])]+=1\n",
    "  return(ngrams)\n"
   ]
  },
  {
   "cell_type": "code",
   "execution_count": 269,
   "metadata": {},
   "outputs": [],
   "source": [
    "def get_clipped_counts(h,r,n):\n",
    "    counts = get_ngrams(h, n)\n",
    "    reference_counts = get_ngrams(r, n)\n",
    "    clipped_counts = [min(count, reference_counts[ngram]) for ngram, count in counts.items()]\n",
    "    return(sum(clipped_counts)/sum(counts.values()))\n"
   ]
  },
  {
   "cell_type": "code",
   "execution_count": 270,
   "metadata": {},
   "outputs": [
    {
     "data": {
      "text/plain": [
       "0.47058823529411764"
      ]
     },
     "execution_count": 270,
     "metadata": {},
     "output_type": "execute_result"
    }
   ],
   "source": [
    "get_clipped_counts(hypothesis,reference,n)"
   ]
  },
  {
   "cell_type": "code",
   "execution_count": null,
   "metadata": {},
   "outputs": [],
   "source": [
    "reference=nltk.word_tokenize(\"the cat sat on the mat\")\n",
    "hypothesis=nltk.word_tokenize(\"the cat sat\")"
   ]
  },
  {
   "cell_type": "code",
   "execution_count": 257,
   "metadata": {
    "id": "vixlz28jignh"
   },
   "outputs": [],
   "source": [
    "import numpy as np\n",
    "brev_pen=min(1,np.exp(1-len(reference)/len(hypothesis)))"
   ]
  },
  {
   "cell_type": "code",
   "execution_count": 258,
   "metadata": {
    "colab": {
     "base_uri": "https://localhost:8080/"
    },
    "id": "m2Fvwz3MkDDm",
    "outputId": "33ed71b6-044d-4c83-fe95-6a3feaa12c72"
   },
   "outputs": [
    {
     "data": {
      "text/plain": [
       "0.36787944117144233"
      ]
     },
     "execution_count": 258,
     "metadata": {},
     "output_type": "execute_result"
    }
   ],
   "source": [
    "brev_pen"
   ]
  },
  {
   "cell_type": "markdown",
   "metadata": {},
   "source": [
    "### Problem 1: Write code to calculate Bleu Score for c1 with r1 as the reference."
   ]
  },
  {
   "cell_type": "markdown",
   "metadata": {
    "id": "rQJ-XAIRlXcQ"
   },
   "source": [
    "## METEOR"
   ]
  },
  {
   "cell_type": "code",
   "execution_count": 275,
   "metadata": {
    "colab": {
     "base_uri": "https://localhost:8080/"
    },
    "id": "tPfSyTgwlbmm",
    "outputId": "05444142-a8c6-4e54-b10d-05a99608dd98"
   },
   "outputs": [
    {
     "name": "stderr",
     "output_type": "stream",
     "text": [
      "[nltk_data] Downloading package punkt_tab to /Users/user/nltk_data...\n",
      "[nltk_data]   Package punkt_tab is already up-to-date!\n",
      "[nltk_data] Downloading package wordnet to /Users/user/nltk_data...\n",
      "[nltk_data]   Package wordnet is already up-to-date!\n"
     ]
    }
   ],
   "source": [
    "import nltk\n",
    "from nltk.translate import meteor\n",
    "nltk.download('punkt_tab')\n",
    "nltk.download('wordnet')\n",
    "from nltk import word_tokenize\n",
    "from nltk.corpus import WordNetCorpusReader, wordnet"
   ]
  },
  {
   "cell_type": "code",
   "execution_count": 276,
   "metadata": {
    "id": "TTCeUrehqNJN"
   },
   "outputs": [],
   "source": [
    "hypothesis = word_tokenize(c1)\n",
    "reference = word_tokenize(r1)"
   ]
  },
  {
   "cell_type": "code",
   "execution_count": 277,
   "metadata": {
    "colab": {
     "base_uri": "https://localhost:8080/"
    },
    "id": "zA08Wfubr7mt",
    "outputId": "469d4aa1-4b1b-430e-c3d3-55f1b28dd506"
   },
   "outputs": [
    {
     "name": "stdout",
     "output_type": "stream",
     "text": [
      "['it', 'is', 'a', 'guide', 'to', 'action', 'which', 'ensures', 'that', 'the', 'military', 'always', 'obeys', 'the', 'commands', 'of', 'the', 'party']\n"
     ]
    }
   ],
   "source": [
    "print(hypothesis)"
   ]
  },
  {
   "cell_type": "code",
   "execution_count": 278,
   "metadata": {
    "colab": {
     "base_uri": "https://localhost:8080/"
    },
    "id": "7y_HB8oFr9LF",
    "outputId": "1689386d-8626-45ee-d639-c1ac1b6ccebc"
   },
   "outputs": [
    {
     "name": "stdout",
     "output_type": "stream",
     "text": [
      "['it', 'is', 'a', 'guide', 'to', 'action', 'that', 'ensures', 'that', 'the', 'military', 'will', 'forever', 'heed', 'party', 'commands']\n"
     ]
    }
   ],
   "source": [
    "print(reference)"
   ]
  },
  {
   "cell_type": "markdown",
   "metadata": {},
   "source": [
    "### Align to get matched words"
   ]
  },
  {
   "cell_type": "code",
   "execution_count": 279,
   "metadata": {
    "id": "oja7SrRFrf_0"
   },
   "outputs": [],
   "source": [
    "enum_hypothesis_list, enum_reference_list = nltk.translate.meteor_score._generate_enums(hypothesis, reference)\n"
   ]
  },
  {
   "cell_type": "code",
   "execution_count": 280,
   "metadata": {
    "colab": {
     "base_uri": "https://localhost:8080/"
    },
    "id": "it8ULi-Sruoq",
    "outputId": "80ce3256-fd49-4321-f3dd-b67f77b8a95d"
   },
   "outputs": [
    {
     "name": "stdout",
     "output_type": "stream",
     "text": [
      "[(0, 'it'), (1, 'is'), (2, 'a'), (3, 'guide'), (4, 'to'), (5, 'action'), (6, 'which'), (7, 'ensures'), (8, 'that'), (9, 'the'), (10, 'military'), (11, 'always'), (12, 'obeys'), (13, 'the'), (14, 'commands'), (15, 'of'), (16, 'the'), (17, 'party')]\n",
      "[(0, 'it'), (1, 'is'), (2, 'a'), (3, 'guide'), (4, 'to'), (5, 'action'), (6, 'that'), (7, 'ensures'), (8, 'that'), (9, 'the'), (10, 'military'), (11, 'will'), (12, 'forever'), (13, 'heed'), (14, 'party'), (15, 'commands')]\n"
     ]
    },
    {
     "data": {
      "text/plain": [
       "(None, None)"
      ]
     },
     "execution_count": 280,
     "metadata": {},
     "output_type": "execute_result"
    }
   ],
   "source": [
    "print(enum_hypothesis_list), print(enum_reference_list)"
   ]
  },
  {
   "cell_type": "code",
   "execution_count": 281,
   "metadata": {
    "colab": {
     "base_uri": "https://localhost:8080/"
    },
    "id": "IanrZsnb1PEK",
    "outputId": "37ec9eaf-3d27-43ee-dd62-c951b0f80e8c"
   },
   "outputs": [
    {
     "name": "stdout",
     "output_type": "stream",
     "text": [
      "[(17, 14), (16, 9), (14, 15), (10, 10), (8, 8), (7, 7), (5, 5), (4, 4), (3, 3), (2, 2), (1, 1), (0, 0)]\n",
      "[(6, 'which'), (9, 'the'), (11, 'always'), (12, 'obeys'), (13, 'the'), (15, 'of')]\n",
      "[(6, 'that'), (11, 'will'), (12, 'forever'), (13, 'heed')]\n"
     ]
    }
   ],
   "source": [
    "matches_exact, ref_resid, hypo_resid =nltk.translate.meteor_score.exact_match(hypothesis,reference)\n",
    "print(matches_exact)\n",
    "print(ref_resid)\n",
    "print(hypo_resid)"
   ]
  },
  {
   "cell_type": "code",
   "execution_count": 282,
   "metadata": {
    "colab": {
     "base_uri": "https://localhost:8080/"
    },
    "id": "OGW0k-tG1fMA",
    "outputId": "d582c61c-912b-4c69-9f8b-36a3e1aa482b"
   },
   "outputs": [
    {
     "name": "stdout",
     "output_type": "stream",
     "text": [
      "[]\n",
      "[(6, 'that'), (11, 'will'), (12, 'forev'), (13, 'heed')]\n",
      "[(6, 'which'), (9, 'the'), (11, 'alway'), (12, 'obey'), (13, 'the'), (15, 'of')]\n"
     ]
    }
   ],
   "source": [
    "matches_stem, ref_resid, hypo_resid = nltk.translate.meteor_score._enum_stem_match(hypo_resid,ref_resid)\n",
    "print(matches_stem)\n",
    "print(ref_resid)\n",
    "print(hypo_resid)"
   ]
  },
  {
   "cell_type": "code",
   "execution_count": 283,
   "metadata": {
    "colab": {
     "base_uri": "https://localhost:8080/"
    },
    "id": "HZTD9zuX1uIZ",
    "outputId": "bae525c2-d189-429a-90ed-fdea75e48f2c"
   },
   "outputs": [
    {
     "name": "stdout",
     "output_type": "stream",
     "text": [
      "[]\n",
      "[(6, 'which'), (9, 'the'), (11, 'alway'), (12, 'obey'), (13, 'the'), (15, 'of')]\n",
      "[(6, 'that'), (11, 'will'), (12, 'forev'), (13, 'heed')]\n"
     ]
    }
   ],
   "source": [
    "matches_wn, ref_resid, hypo_resid = nltk.translate.meteor_score._enum_wordnetsyn_match(hypo_resid,ref_resid)\n",
    "print(matches_wn)\n",
    "print(ref_resid)\n",
    "print(hypo_resid)"
   ]
  },
  {
   "cell_type": "code",
   "execution_count": 303,
   "metadata": {
    "colab": {
     "base_uri": "https://localhost:8080/"
    },
    "id": "ZNVBIrD07V4Z",
    "outputId": "e1e765bb-4417-4744-8ca6-7946929ceddb"
   },
   "outputs": [
    {
     "data": {
      "text/plain": [
       "12"
      ]
     },
     "execution_count": 303,
     "metadata": {},
     "output_type": "execute_result"
    }
   ],
   "source": [
    "matches= sorted(list(set(matches_exact + matches_stem + matches_wn)))\n",
    "matches_count=len(set(matches_exact + matches_stem + matches_wn))\n",
    "matches_count"
   ]
  },
  {
   "cell_type": "markdown",
   "metadata": {},
   "source": [
    "### Count Chunks"
   ]
  },
  {
   "cell_type": "code",
   "execution_count": 305,
   "metadata": {
    "id": "XcWTKqXZ82nV"
   },
   "outputs": [],
   "source": [
    "def count_chunks(matches):\n",
    "    chunks = 0\n",
    "    for i in range(len(matches) - 1):\n",
    "        if (matches[i + 1][0] == matches[i][0] + 1) and (matches[i + 1][1] == matches[i][1] + 1):\n",
    "            chunks += 1\n",
    "    return chunks"
   ]
  },
  {
   "cell_type": "code",
   "execution_count": 306,
   "metadata": {},
   "outputs": [
    {
     "data": {
      "text/plain": [
       "6"
      ]
     },
     "execution_count": 306,
     "metadata": {},
     "output_type": "execute_result"
    }
   ],
   "source": [
    "count_chunks(matches)"
   ]
  },
  {
   "cell_type": "markdown",
   "metadata": {},
   "source": [
    "### Problem 2: Write code to calculate Meteor Score for c1 with r1 as the reference."
   ]
  },
  {
   "cell_type": "code",
   "execution_count": 307,
   "metadata": {},
   "outputs": [],
   "source": [
    "alpha = 0.9\n",
    "beta= 3.0\n",
    "gamma = 0.5\n"
   ]
  },
  {
   "cell_type": "markdown",
   "metadata": {},
   "source": [
    "### Problem 3: Come up with hypothesis/reference sentence pairs that demonstrate the relative strengths and weaknesses of the two scoring methods."
   ]
  }
 ],
 "metadata": {
  "colab": {
   "provenance": []
  },
  "kernelspec": {
   "display_name": "Python 3 (ipykernel)",
   "language": "python",
   "name": "python3"
  },
  "language_info": {
   "codemirror_mode": {
    "name": "ipython",
    "version": 3
   },
   "file_extension": ".py",
   "mimetype": "text/x-python",
   "name": "python",
   "nbconvert_exporter": "python",
   "pygments_lexer": "ipython3",
   "version": "3.12.4"
  }
 },
 "nbformat": 4,
 "nbformat_minor": 4
}
