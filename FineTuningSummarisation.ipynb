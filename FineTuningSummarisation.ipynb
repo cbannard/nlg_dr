{
  "cells": [
    {
      "cell_type": "markdown",
      "metadata": {
        "id": "iF1yRpTqq_X1"
      },
      "source": [
        "# Training / Fine-tuning a Text Summarisation model\n",
        "\n",
        "We are going to look at model fine-tuning by taking a general text summarisation model and fine-tuning it to perform dialogue summarisation"
      ]
    },
    {
      "cell_type": "code",
      "execution_count": null,
      "metadata": {
        "id": "ULhlBcDPq_X2",
        "tags": []
      },
      "outputs": [],
      "source": [
        "!pip install accelerate -U\n",
        "!pip install transformers -U\n",
        "!pip install datasets\n",
        "!pip install py7zr\n",
        "!pip install tiktoken\n",
        "!pip install sentencepiece\n",
        "!pip install evaluate\n",
        "!pip install rouge_score"
      ]
    },
    {
      "cell_type": "code",
      "execution_count": null,
      "metadata": {
        "id": "JBdlfSheCGkv"
      },
      "outputs": [],
      "source": [
        "import transformers\n",
        "from transformers import pipeline, set_seed\n",
        "from datasets import load_dataset\n",
        "import py7zr\n",
        "import accelerate\n",
        "import pandas as pd\n",
        "import torch"
      ]
    },
    {
      "cell_type": "markdown",
      "metadata": {
        "id": "3ZOOBYNICGk1"
      },
      "source": [
        "## A dialogue summarisation dataset"
      ]
    },
    {
      "cell_type": "code",
      "execution_count": null,
      "metadata": {
        "id": "d5bRIsnNCGk1"
      },
      "outputs": [],
      "source": [
        "dataset_samsum = load_dataset(\"samsum\",trust_remote_code=True)\n",
        "split_lengths = [len(dataset_samsum[split])for split in dataset_samsum]\n",
        "\n",
        "print(f\"Split lengths: {split_lengths}\")\n",
        "print(f\"Features: {dataset_samsum['train'].column_names}\")\n",
        "print(\"\\nDialogue:\")\n",
        "print(dataset_samsum[\"test\"][0][\"dialogue\"])\n",
        "print(\"\\nSummary:\")\n",
        "print(dataset_samsum[\"test\"][0][\"summary\"])"
      ]
    },
    {
      "cell_type": "markdown",
      "metadata": {
        "id": "HCOsSuIZCGk1"
      },
      "source": [
        "### Evaluating PEGASUS on SAMSum"
      ]
    },
    {
      "cell_type": "markdown",
      "metadata": {
        "id": "mHr4G-mBCGkx"
      },
      "source": [
        "<img alt=\"pegasus\" width=\"700\" caption=\"Diagram of PEGASUS architecture (courtesy of Jingqing Zhang et al.)\" src=\"https://github.com/nlp-with-transformers/notebooks/blob/main/images/chapter08_pegasus.png?raw=1\" id=\"pegasus\"/>"
      ]
    },
    {
      "cell_type": "code",
      "execution_count": null,
      "metadata": {
        "id": "uf6UqSV3YBZP"
      },
      "outputs": [],
      "source": [
        "from transformers import AutoModelForSeq2SeqLM, PegasusTokenizer\n",
        "import matplotlib.pyplot as plt\n",
        "import tiktoken\n",
        "import sentencepiece\n",
        "#device=\"mps\"\n",
        "device=\"cuda\"\n",
        "model_ckpt = \"google/pegasus-cnn_dailymail\"\n",
        "tokenizer = PegasusTokenizer.from_pretrained(model_ckpt)\n",
        "model = AutoModelForSeq2SeqLM.from_pretrained(model_ckpt).to(device)"
      ]
    },
    {
      "cell_type": "code",
      "execution_count": null,
      "metadata": {
        "id": "GshMe2cbYBZQ"
      },
      "outputs": [],
      "source": [
        "torch.cuda.empty_cache()\n",
        "input_ = tokenizer.batch_encode_plus(dataset_samsum[\"test\"][0:1][\"dialogue\"], max_length=1024, pad_to_max_length=True,truncation=True, padding='longest', return_tensors=\"pt\")\n",
        "input_ids = input_['input_ids']\n",
        "input_mask = input_['attention_mask']\n",
        "summaries = model.generate(input_ids=input_ids.to(device),\n",
        "                         attention_mask=input_mask.to(device),\n",
        "                         num_beams=100,\n",
        "                         no_repeat_ngram_size=2,\n",
        "                         early_stopping=True,\n",
        "                         num_return_sequences=10,\n",
        "                         max_length=64)\n",
        "summaries = tokenizer.batch_decode(summaries, skip_special_tokens=True)\n",
        "summaries=[summary.replace(\"<n>\", \"\\n\") for summary in summaries]"
      ]
    },
    {
      "cell_type": "code",
      "execution_count": null,
      "metadata": {
        "id": "ix0EoR9uY8Gp"
      },
      "outputs": [],
      "source": [
        "print(summaries[0])"
      ]
    },
    {
      "cell_type": "markdown",
      "metadata": {
        "id": "N8QVrtgACGk1"
      },
      "source": [
        "### Fine-Tuning PEGASUS"
      ]
    },
    {
      "cell_type": "markdown",
      "metadata": {
        "id": "UzpwXQAr2WjH"
      },
      "source": [
        "To fine tune model uncomment the following 5 code blocks and run. Note though that it will take a good 5-6 hours to run."
      ]
    },
    {
      "cell_type": "code",
      "execution_count": null,
      "metadata": {
        "id": "f3pj3VNZCGk1"
      },
      "outputs": [],
      "source": [
        "#def convert_examples_to_features(example_batch):\n",
        "#    input_encodings = tokenizer(example_batch[\"dialogue\"], max_length=1024,\n",
        "#                                truncation=True)\n",
        "\n",
        "#    with tokenizer.as_target_tokenizer():\n",
        "#        target_encodings = tokenizer(example_batch[\"summary\"], max_length=128,\n",
        "#                                     truncation=True)\n",
        "\n",
        "#    return {\"input_ids\": input_encodings[\"input_ids\"],\n",
        "#            \"attention_mask\": input_encodings[\"attention_mask\"],\n",
        "#            \"labels\": target_encodings[\"input_ids\"]}\n",
        "\n",
        "#dataset_samsum_pt = dataset_samsum.map(convert_examples_to_features,\n",
        "#                                       batched=True)\n",
        "#columns = [\"input_ids\", \"labels\", \"attention_mask\"]\n",
        "#dataset_samsum_pt.set_format(type=\"torch\", columns=columns)"
      ]
    },
    {
      "cell_type": "code",
      "execution_count": null,
      "metadata": {
        "id": "KE2vmLRgCGk1"
      },
      "outputs": [],
      "source": [
        "#from transformers import DataCollatorForSeq2Seq, TrainingArguments, Trainer\n",
        "\n",
        "#seq2seq_data_collator = DataCollatorForSeq2Seq(tokenizer, model=model)\n",
        "\n",
        "#training_args = TrainingArguments(\n",
        "#    output_dir='pegasus-samsum', num_train_epochs=20, warmup_steps=500,\n",
        "#    per_device_train_batch_size=1, per_device_eval_batch_size=1,\n",
        "#    weight_decay=0.01, logging_steps=10, push_to_hub=False,\n",
        "#    evaluation_strategy='steps', eval_steps=500, save_steps=1e6,gradient_accumulation_steps=128)\n",
        "\n",
        "#trainer = Trainer(model=model, args=training_args,\n",
        "#                  tokenizer=tokenizer, data_collator=seq2seq_data_collator,\n",
        "#                  train_dataset=dataset_samsum_pt[\"train\"],\n",
        "#                  eval_dataset=dataset_samsum_pt[\"validation\"])"
      ]
    },
    {
      "cell_type": "code",
      "execution_count": null,
      "metadata": {
        "id": "efPKAIdJ2WjH"
      },
      "outputs": [],
      "source": [
        "#!pip install wandb"
      ]
    },
    {
      "cell_type": "code",
      "execution_count": null,
      "metadata": {
        "id": "MnU37S9eCGk2"
      },
      "outputs": [],
      "source": [
        "#import wandb\n",
        "#from huggingface_hub import notebook_login\n",
        "\n",
        "#notebook_login()\n",
        "#wandb.init(mode=\"disabled\")"
      ]
    },
    {
      "cell_type": "code",
      "execution_count": null,
      "metadata": {
        "id": "HcHfDkIICGk2"
      },
      "outputs": [],
      "source": [
        "# hide_output\n",
        "#torch.cuda.empty_cache()\n",
        "#trainer.train()\n",
        "# To save your fine-tuned model:\n",
        "#trainer.save_model(\"dialogue-summ-model\")"
      ]
    },
    {
      "cell_type": "markdown",
      "metadata": {
        "id": "vJDTSdyh2WjH"
      },
      "source": [
        "To load an already fine tuned model uncomment the following cell and run it"
      ]
    },
    {
      "cell_type": "code",
      "execution_count": null,
      "metadata": {
        "id": "j6UXHg062WjH"
      },
      "outputs": [],
      "source": [
        "model_ckpt=\"transformersbook/pegasus-samsum\"\n",
        "tokenizer = PegasusTokenizer.from_pretrained(model_ckpt)\n",
        "model = AutoModelForSeq2SeqLM.from_pretrained(model_ckpt).to(device)"
      ]
    },
    {
      "cell_type": "markdown",
      "metadata": {
        "id": "ikaKcLsfCGk2"
      },
      "source": [
        "### Generating And Evaluating Dialogue Summaries"
      ]
    },
    {
      "cell_type": "code",
      "execution_count": null,
      "metadata": {
        "id": "ak5yqNfJYBZR"
      },
      "outputs": [],
      "source": [
        "torch.cuda.empty_cache()\n",
        "input_ = tokenizer.batch_encode_plus(dataset_samsum[\"test\"][0:1][\"dialogue\"], max_length=1024, pad_to_max_length=True,truncation=True, padding='longest', return_tensors=\"pt\")\n",
        "input_ids = input_['input_ids']\n",
        "input_mask = input_['attention_mask']\n",
        "summaries_ft = model.generate(input_ids=input_ids.to(device),\n",
        "                         attention_mask=input_mask.to(device),\n",
        "                         num_beams=100,\n",
        "                         no_repeat_ngram_size=2,\n",
        "                         early_stopping=True,\n",
        "                         num_return_sequences=1,\n",
        "                         max_length=64,\n",
        "                          )\n",
        "summaries_ft = tokenizer.batch_decode(summaries_ft, skip_special_tokens=True)\n",
        "summaries_ft=[summary.replace(\"<n>\", \"\\n\") for summary in summaries_ft]"
      ]
    },
    {
      "cell_type": "code",
      "execution_count": null,
      "metadata": {
        "id": "iEvcLZSexJWg",
        "tags": []
      },
      "outputs": [],
      "source": [
        "reference=dataset_samsum[\"test\"][0:1][\"summary\"]\n"
      ]
    },
    {
      "cell_type": "markdown",
      "source": [
        "Activity 1: Write a function to calculate Rouge-N\n",
        "\n",
        "\n"
      ],
      "metadata": {
        "id": "G7gayCl1-3kp"
      }
    },
    {
      "cell_type": "markdown",
      "source": [
        "Activity 2: Write a function to calculate Rouge-L, with B=1"
      ],
      "metadata": {
        "id": "ZJLp-KpmBXpi"
      }
    },
    {
      "cell_type": "markdown",
      "source": [
        "Activity 3: Compare the two different Rouge scores achieved by the base PEGASUS model and the fine-tuned model."
      ],
      "metadata": {
        "id": "sYDPokxFBTLB"
      }
    },
    {
      "cell_type": "markdown",
      "source": [
        "Activity 4: Familiarise yourself with the generate function options: https://huggingface.co/docs/transformers/en/main_classes/text_generation\n",
        "Vary the setting and observe how they effect output for the two models."
      ],
      "metadata": {
        "id": "lDDkgFJsAc6B"
      }
    }
  ],
  "metadata": {
    "accelerator": "GPU",
    "colab": {
      "gpuType": "A100",
      "machine_shape": "hm",
      "provenance": []
    },
    "kernelspec": {
      "display_name": "Python 3",
      "name": "python3"
    },
    "language_info": {
      "codemirror_mode": {
        "name": "ipython",
        "version": 3
      },
      "file_extension": ".py",
      "mimetype": "text/x-python",
      "name": "python",
      "nbconvert_exporter": "python",
      "pygments_lexer": "ipython3",
      "version": "3.12.4"
    }
  },
  "nbformat": 4,
  "nbformat_minor": 0
}