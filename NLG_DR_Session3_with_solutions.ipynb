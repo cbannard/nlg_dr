{
  "cells": [
    {
      "cell_type": "markdown",
      "metadata": {
        "id": "fjf3PXPQRNZt"
      },
      "source": [
        "# BLEU"
      ]
    },
    {
      "cell_type": "code",
      "execution_count": 122,
      "metadata": {
        "id": "lNJ_Zc0HWx2l"
      },
      "outputs": [],
      "source": [
        "c1=\"it is a guide to action which ensures that the military always obeys the commands of the party\"\n",
        "c2=\"it is to insure the troops forever hearing the activity guidebook that party direct\""
      ]
    },
    {
      "cell_type": "code",
      "execution_count": 123,
      "metadata": {
        "id": "D4kcJhwAW-Ap"
      },
      "outputs": [],
      "source": [
        "r1=\"it is a guide to action that ensures that the military will forever heed party commands\"\n",
        "r2=\"it is the guiding principle which guarantees the military forces always being under the command of the party\"\n",
        "r3=\"it is the practical guide for the army always to heed the directions of the party\""
      ]
    },
    {
      "cell_type": "code",
      "execution_count": 6,
      "metadata": {
        "id": "gIC4G6oqm6OM",
        "outputId": "4b8221a2-fdbb-4e67-d905-f0ec2e757ca9",
        "colab": {
          "base_uri": "https://localhost:8080/"
        }
      },
      "outputs": [
        {
          "output_type": "stream",
          "name": "stdout",
          "text": [
            "Requirement already satisfied: nltk in /usr/local/lib/python3.11/dist-packages (3.9.1)\n",
            "Requirement already satisfied: click in /usr/local/lib/python3.11/dist-packages (from nltk) (8.1.8)\n",
            "Requirement already satisfied: joblib in /usr/local/lib/python3.11/dist-packages (from nltk) (1.4.2)\n",
            "Requirement already satisfied: regex>=2021.8.3 in /usr/local/lib/python3.11/dist-packages (from nltk) (2024.11.6)\n",
            "Requirement already satisfied: tqdm in /usr/local/lib/python3.11/dist-packages (from nltk) (4.67.1)\n"
          ]
        },
        {
          "output_type": "stream",
          "name": "stderr",
          "text": [
            "[nltk_data] Downloading package punkt_tab to /root/nltk_data...\n",
            "[nltk_data]   Unzipping tokenizers/punkt_tab.zip.\n"
          ]
        }
      ],
      "source": [
        "! pip install nltk\n",
        "import nltk\n",
        "nltk.download('punkt_tab')\n",
        "\n",
        "from nltk import word_tokenize"
      ]
    },
    {
      "cell_type": "code",
      "execution_count": 124,
      "metadata": {
        "id": "uVjRmsHdm6OM"
      },
      "outputs": [],
      "source": [
        "hypothesis = word_tokenize(c1)\n",
        "reference = word_tokenize(r1)"
      ]
    },
    {
      "cell_type": "code",
      "source": [
        "hypothesis"
      ],
      "metadata": {
        "id": "X4WdEMjLyELr",
        "outputId": "b2d03dea-f748-4361-c807-2cd3baf004cf",
        "colab": {
          "base_uri": "https://localhost:8080/"
        }
      },
      "execution_count": 8,
      "outputs": [
        {
          "output_type": "execute_result",
          "data": {
            "text/plain": [
              "['it',\n",
              " 'is',\n",
              " 'a',\n",
              " 'guide',\n",
              " 'to',\n",
              " 'action',\n",
              " 'which',\n",
              " 'ensures',\n",
              " 'that',\n",
              " 'the',\n",
              " 'military',\n",
              " 'always',\n",
              " 'obeys',\n",
              " 'the',\n",
              " 'commands',\n",
              " 'of',\n",
              " 'the',\n",
              " 'party']"
            ]
          },
          "metadata": {},
          "execution_count": 8
        }
      ]
    },
    {
      "cell_type": "markdown",
      "metadata": {
        "id": "LPwepPNLm6ON"
      },
      "source": [
        "### Get clipped counts"
      ]
    },
    {
      "cell_type": "code",
      "execution_count": 11,
      "metadata": {
        "id": "B0xVOhjIXUbI"
      },
      "outputs": [],
      "source": [
        "from collections import defaultdict\n",
        "def get_ngrams(sentence_toks,n):\n",
        "  ngrams = defaultdict(int)\n",
        "  for i in range(0,len(sentence_toks)-(n-1)):\n",
        "    ngrams[str.join(\" \",sentence_toks[i:i+n])]+=1\n",
        "  return(ngrams)\n"
      ]
    },
    {
      "cell_type": "code",
      "source": [
        "get_ngrams(hypothesis,3)"
      ],
      "metadata": {
        "id": "7AHltcukytIv",
        "outputId": "f707e4d0-0176-4a8f-d926-647b56621b01",
        "colab": {
          "base_uri": "https://localhost:8080/"
        }
      },
      "execution_count": 14,
      "outputs": [
        {
          "output_type": "execute_result",
          "data": {
            "text/plain": [
              "defaultdict(int,\n",
              "            {'it is a': 1,\n",
              "             'is a guide': 1,\n",
              "             'a guide to': 1,\n",
              "             'guide to action': 1,\n",
              "             'to action which': 1,\n",
              "             'action which ensures': 1,\n",
              "             'which ensures that': 1,\n",
              "             'ensures that the': 1,\n",
              "             'that the military': 1,\n",
              "             'the military always': 1,\n",
              "             'military always obeys': 1,\n",
              "             'always obeys the': 1,\n",
              "             'obeys the commands': 1,\n",
              "             'the commands of': 1,\n",
              "             'commands of the': 1,\n",
              "             'of the party': 1})"
            ]
          },
          "metadata": {},
          "execution_count": 14
        }
      ]
    },
    {
      "cell_type": "code",
      "execution_count": 18,
      "metadata": {
        "id": "rUX7AlYJm6ON"
      },
      "outputs": [],
      "source": [
        "def get_clipped_precision(h,r,n):\n",
        "    counts = get_ngrams(h, n)\n",
        "    reference_counts = get_ngrams(r, n)\n",
        "    clipped_counts = [min(count, reference_counts[ngram]) for ngram, count in counts.items()]\n",
        "    return(sum(clipped_counts)/sum(counts.values()))\n"
      ]
    },
    {
      "cell_type": "code",
      "execution_count": 72,
      "metadata": {
        "id": "vixlz28jignh"
      },
      "outputs": [],
      "source": [
        "import numpy as np\n",
        "brev_pen=min(1,np.exp(1-len(reference)/len(hypothesis)))"
      ]
    },
    {
      "cell_type": "markdown",
      "source": [],
      "metadata": {
        "id": "mE9ymemQdPHC"
      }
    },
    {
      "cell_type": "markdown",
      "source": [
        "### Depiction of brevity penalty as a function of proportional difference"
      ],
      "metadata": {
        "id": "yv687_Qlc4Ks"
      }
    },
    {
      "cell_type": "code",
      "source": [
        "x=[]\n",
        "y=[]\n",
        "for i in range(1,11):\n",
        "   x.append(i/10)\n",
        "   y.append(np.exp(1-10/i))"
      ],
      "metadata": {
        "id": "gttQX-gA0nPH"
      },
      "execution_count": 41,
      "outputs": []
    },
    {
      "cell_type": "code",
      "source": [
        "import matplotlib.pyplot as plt\n",
        "\n",
        "plt.scatter(x,y)"
      ],
      "metadata": {
        "id": "Rycpg2901R3M",
        "outputId": "ecdcf66e-846e-4f76-e73c-c7083ce51a4b",
        "colab": {
          "base_uri": "https://localhost:8080/",
          "height": 447
        }
      },
      "execution_count": 42,
      "outputs": [
        {
          "output_type": "execute_result",
          "data": {
            "text/plain": [
              "<matplotlib.collections.PathCollection at 0x7d67b07615d0>"
            ]
          },
          "metadata": {},
          "execution_count": 42
        },
        {
          "output_type": "display_data",
          "data": {
            "text/plain": [
              "<Figure size 640x480 with 1 Axes>"
            ],
            "image/png": "[encoded data removed]"
          },
          "metadata": {}
        }
      ]
    },
    {
      "cell_type": "markdown",
      "metadata": {
        "id": "IWbJRngxm6OO"
      },
      "source": [
        "### Problem 1: Write code to calculate Bleu Score for c1 with r1 as the reference."
      ]
    },
    {
      "cell_type": "code",
      "source": [
        "n = 4\n",
        "tot=0\n",
        "for i in range(1,n+1):\n",
        "  tot += (1/n) * np.log(get_clipped_precision(hypothesis,reference,i))\n",
        "brev_pen*np.exp(tot)\n"
      ],
      "metadata": {
        "id": "peMTu5CW3PIQ",
        "outputId": "742db387-2996-4368-d2f8-353e06ba23ef",
        "colab": {
          "base_uri": "https://localhost:8080/"
        }
      },
      "execution_count": 126,
      "outputs": [
        {
          "output_type": "execute_result",
          "data": {
            "text/plain": [
              "0.4208598069524091"
            ]
          },
          "metadata": {},
          "execution_count": 126
        }
      ]
    },
    {
      "cell_type": "markdown",
      "source": [
        "Or calculate directly using NLTK function for full process (useful as a check)"
      ],
      "metadata": {
        "id": "0jqXmSlOeUIT"
      }
    },
    {
      "cell_type": "code",
      "source": [
        "nltk.translate.bleu_score.sentence_bleu([reference],hypothesis)"
      ],
      "metadata": {
        "id": "PxYc2x8Pdi9h",
        "outputId": "f8e014b7-1df8-41d6-fba8-e2f0cfe66025",
        "colab": {
          "base_uri": "https://localhost:8080/"
        }
      },
      "execution_count": 129,
      "outputs": [
        {
          "output_type": "execute_result",
          "data": {
            "text/plain": [
              "0.4208598069524091"
            ]
          },
          "metadata": {},
          "execution_count": 129
        }
      ]
    },
    {
      "cell_type": "markdown",
      "metadata": {
        "id": "rQJ-XAIRlXcQ"
      },
      "source": [
        "## METEOR"
      ]
    },
    {
      "cell_type": "code",
      "execution_count": 84,
      "metadata": {
        "colab": {
          "base_uri": "https://localhost:8080/"
        },
        "id": "tPfSyTgwlbmm",
        "outputId": "209fb4be-09f7-4e52-f228-4988432f90a9"
      },
      "outputs": [
        {
          "output_type": "stream",
          "name": "stderr",
          "text": [
            "[nltk_data] Downloading package punkt_tab to /root/nltk_data...\n",
            "[nltk_data]   Package punkt_tab is already up-to-date!\n",
            "[nltk_data] Downloading package wordnet to /root/nltk_data...\n"
          ]
        }
      ],
      "source": [
        "import nltk\n",
        "from nltk.translate import meteor\n",
        "nltk.download('punkt_tab')\n",
        "nltk.download('wordnet')\n",
        "from nltk import word_tokenize\n",
        "from nltk.corpus import WordNetCorpusReader, wordnet"
      ]
    },
    {
      "cell_type": "code",
      "execution_count": 76,
      "metadata": {
        "id": "TTCeUrehqNJN"
      },
      "outputs": [],
      "source": [
        "hypothesis = word_tokenize(c1)\n",
        "reference = word_tokenize(r1)"
      ]
    },
    {
      "cell_type": "code",
      "execution_count": null,
      "metadata": {
        "colab": {
          "base_uri": "https://localhost:8080/"
        },
        "id": "zA08Wfubr7mt",
        "outputId": "469d4aa1-4b1b-430e-c3d3-55f1b28dd506"
      },
      "outputs": [
        {
          "name": "stdout",
          "output_type": "stream",
          "text": [
            "['it', 'is', 'a', 'guide', 'to', 'action', 'which', 'ensures', 'that', 'the', 'military', 'always', 'obeys', 'the', 'commands', 'of', 'the', 'party']\n"
          ]
        }
      ],
      "source": [
        "print(hypothesis)"
      ]
    },
    {
      "cell_type": "code",
      "execution_count": null,
      "metadata": {
        "colab": {
          "base_uri": "https://localhost:8080/"
        },
        "id": "7y_HB8oFr9LF",
        "outputId": "1689386d-8626-45ee-d639-c1ac1b6ccebc"
      },
      "outputs": [
        {
          "name": "stdout",
          "output_type": "stream",
          "text": [
            "['it', 'is', 'a', 'guide', 'to', 'action', 'that', 'ensures', 'that', 'the', 'military', 'will', 'forever', 'heed', 'party', 'commands']\n"
          ]
        }
      ],
      "source": [
        "print(reference)"
      ]
    },
    {
      "cell_type": "markdown",
      "metadata": {
        "id": "guJvKCQbm6OO"
      },
      "source": [
        "### Align to get matched words"
      ]
    },
    {
      "cell_type": "code",
      "execution_count": 77,
      "metadata": {
        "id": "oja7SrRFrf_0"
      },
      "outputs": [],
      "source": [
        "enum_hypothesis_list, enum_reference_list = nltk.translate.meteor_score._generate_enums(hypothesis, reference)\n"
      ]
    },
    {
      "cell_type": "code",
      "execution_count": 78,
      "metadata": {
        "colab": {
          "base_uri": "https://localhost:8080/"
        },
        "id": "it8ULi-Sruoq",
        "outputId": "144e1bb0-0973-4da5-a4c8-dd48a9bd130e"
      },
      "outputs": [
        {
          "output_type": "stream",
          "name": "stdout",
          "text": [
            "[(0, 'it'), (1, 'is'), (2, 'a'), (3, 'guide'), (4, 'to'), (5, 'action'), (6, 'which'), (7, 'ensures'), (8, 'that'), (9, 'the'), (10, 'military'), (11, 'always'), (12, 'obeys'), (13, 'the'), (14, 'commands'), (15, 'of'), (16, 'the'), (17, 'party')]\n",
            "[(0, 'it'), (1, 'is'), (2, 'a'), (3, 'guide'), (4, 'to'), (5, 'action'), (6, 'that'), (7, 'ensures'), (8, 'that'), (9, 'the'), (10, 'military'), (11, 'will'), (12, 'forever'), (13, 'heed'), (14, 'party'), (15, 'commands')]\n"
          ]
        },
        {
          "output_type": "execute_result",
          "data": {
            "text/plain": [
              "(None, None)"
            ]
          },
          "metadata": {},
          "execution_count": 78
        }
      ],
      "source": [
        "print(enum_hypothesis_list), print(enum_reference_list)"
      ]
    },
    {
      "cell_type": "code",
      "execution_count": 87,
      "metadata": {
        "colab": {
          "base_uri": "https://localhost:8080/"
        },
        "id": "IanrZsnb1PEK",
        "outputId": "563851a9-bd3e-468c-be17-8b27a4f0a48c"
      },
      "outputs": [
        {
          "output_type": "stream",
          "name": "stdout",
          "text": [
            "[(0, 0), (1, 1), (2, 2), (3, 3), (4, 4), (5, 5), (7, 7), (8, 8), (10, 10), (14, 15), (16, 9), (17, 14)]\n",
            "[(6, 'which'), (9, 'the'), (11, 'always'), (12, 'obeys'), (13, 'the'), (15, 'of')]\n",
            "[(6, 'that'), (11, 'will'), (12, 'forever'), (13, 'heed')]\n"
          ]
        }
      ],
      "source": [
        "matches_exact, ref_resid, hypo_resid =nltk.translate.meteor_score.exact_match(hypothesis,reference)\n",
        "print(sorted(matches_exact))\n",
        "print(ref_resid)\n",
        "print(hypo_resid)"
      ]
    },
    {
      "cell_type": "code",
      "execution_count": 88,
      "metadata": {
        "colab": {
          "base_uri": "https://localhost:8080/"
        },
        "id": "OGW0k-tG1fMA",
        "outputId": "094101b7-4742-4afa-aa1c-cbcb0d8317ee"
      },
      "outputs": [
        {
          "output_type": "stream",
          "name": "stdout",
          "text": [
            "[]\n",
            "[(6, 'that'), (11, 'will'), (12, 'forev'), (13, 'heed')]\n",
            "[(6, 'which'), (9, 'the'), (11, 'alway'), (12, 'obey'), (13, 'the'), (15, 'of')]\n"
          ]
        }
      ],
      "source": [
        "matches_stem, ref_resid, hypo_resid = nltk.translate.meteor_score._enum_stem_match(hypo_resid,ref_resid)\n",
        "print(matches_stem)\n",
        "print(ref_resid)\n",
        "print(hypo_resid)"
      ]
    },
    {
      "cell_type": "code",
      "execution_count": 89,
      "metadata": {
        "colab": {
          "base_uri": "https://localhost:8080/"
        },
        "id": "HZTD9zuX1uIZ",
        "outputId": "bc9ffdc7-af36-4568-abeb-e6382e06fc13"
      },
      "outputs": [
        {
          "output_type": "stream",
          "name": "stdout",
          "text": [
            "[]\n",
            "[(6, 'which'), (9, 'the'), (11, 'alway'), (12, 'obey'), (13, 'the'), (15, 'of')]\n",
            "[(6, 'that'), (11, 'will'), (12, 'forev'), (13, 'heed')]\n"
          ]
        }
      ],
      "source": [
        "matches_wn, ref_resid, hypo_resid = nltk.translate.meteor_score._enum_wordnetsyn_match(hypo_resid,ref_resid)\n",
        "print(matches_wn)\n",
        "print(ref_resid)\n",
        "print(hypo_resid)"
      ]
    },
    {
      "cell_type": "code",
      "execution_count": 90,
      "metadata": {
        "colab": {
          "base_uri": "https://localhost:8080/"
        },
        "id": "ZNVBIrD07V4Z",
        "outputId": "b02739f0-0ea1-4c5f-8ee7-39cbd4abd1a8"
      },
      "outputs": [
        {
          "output_type": "execute_result",
          "data": {
            "text/plain": [
              "12"
            ]
          },
          "metadata": {},
          "execution_count": 90
        }
      ],
      "source": [
        "matches= sorted(list(set(matches_exact + matches_stem + matches_wn)))\n",
        "matches_count=len(set(matches_exact + matches_stem + matches_wn))\n",
        "matches_count"
      ]
    },
    {
      "cell_type": "markdown",
      "metadata": {
        "id": "ZAc11oNSm6OO"
      },
      "source": [
        "### Count Chunks"
      ]
    },
    {
      "cell_type": "code",
      "execution_count": 95,
      "metadata": {
        "id": "XcWTKqXZ82nV"
      },
      "outputs": [],
      "source": [
        "def count_chunks(matches):\n",
        "    chunks = 0\n",
        "    for i in range(len(matches) - 1):\n",
        "        if (matches[i + 1][0] == matches[i][0] + 1) and (matches[i + 1][1] == matches[i][1] + 1):\n",
        "            chunks += 1\n",
        "    return chunks"
      ]
    },
    {
      "cell_type": "code",
      "execution_count": null,
      "metadata": {
        "id": "Ob8eMgt-m6OO",
        "outputId": "14b556c2-8ddc-4234-c02d-53c0ff20a03d"
      },
      "outputs": [
        {
          "data": {
            "text/plain": [
              "6"
            ]
          },
          "execution_count": 306,
          "metadata": {},
          "output_type": "execute_result"
        }
      ],
      "source": [
        "count_chunks(matches)"
      ]
    },
    {
      "cell_type": "markdown",
      "metadata": {
        "id": "o9nrhVj_m6OO"
      },
      "source": [
        "### Problem 2: Write code to calculate Meteor Score for c1 with r1 as the reference."
      ]
    },
    {
      "cell_type": "code",
      "source": [
        "def get_matches_count(h, r):\n",
        "  matches_exact, ref_resid, hypo_resid =nltk.translate.meteor_score.exact_match(hypothesis,reference)\n",
        "  matches_stem, ref_resid, hypo_resid = nltk.translate.meteor_score._enum_stem_match(hypo_resid,ref_resid)\n",
        "  matches_wn, ref_resid, hypo_resid = nltk.translate.meteor_score._enum_wordnetsyn_match(hypo_resid,ref_resid)\n",
        "  return(len(set(matches_exact + matches_stem + matches_wn)))\n",
        "\n"
      ],
      "metadata": {
        "id": "9pvxZ-LYaTM1"
      },
      "execution_count": 100,
      "outputs": []
    },
    {
      "cell_type": "code",
      "source": [
        "def calculate_meteor_score(h,r):\n",
        "  #alpha=0.9\n",
        "  beta= 3.0\n",
        "  gamma = 0.5\n",
        "  try:\n",
        "    matched_count = get_matches_count(h, r)\n",
        "    precision = matches_count / len(h)\n",
        "    recall = matches_count / len(r)\n",
        "    #fmean = (precision * recall) / (alpha * precision + (1 - alpha) * recall)\n",
        "    fmean = (10*precision*recall)/(recall+(9*precision))\n",
        "    chunk_count = count_chunks(matches)\n",
        "    frag_frac = chunk_count / matches_count\n",
        "  except ZeroDivisionError:\n",
        "        return 0.0\n",
        "  penalty = gamma * frag_frac**beta\n",
        "  return (1 - penalty) * fmean"
      ],
      "metadata": {
        "id": "3s-1Z6u7ZY2z"
      },
      "execution_count": 118,
      "outputs": []
    },
    {
      "cell_type": "code",
      "source": [
        "calculate_meteor_score(hypothesis,reference)"
      ],
      "metadata": {
        "id": "gLnYOytKbF6L",
        "outputId": "b43ad64d-c8c2-4386-9a1f-6f15aa2dfd0f",
        "colab": {
          "base_uri": "https://localhost:8080/"
        }
      },
      "execution_count": 116,
      "outputs": [
        {
          "output_type": "execute_result",
          "data": {
            "text/plain": [
              "0.6944444444444444"
            ]
          },
          "metadata": {},
          "execution_count": 116
        }
      ]
    },
    {
      "cell_type": "markdown",
      "source": [
        "Or calculate directly using NLTK function for full process (useful as a check)"
      ],
      "metadata": {
        "id": "QLy1AVljehJx"
      }
    },
    {
      "cell_type": "code",
      "source": [
        "nltk.translate.meteor([reference],hypothesis)"
      ],
      "metadata": {
        "id": "fnaHjuWIbiSD",
        "outputId": "80ac538e-4462-412e-d9bf-e9c742832e7b",
        "colab": {
          "base_uri": "https://localhost:8080/"
        }
      },
      "execution_count": 117,
      "outputs": [
        {
          "output_type": "execute_result",
          "data": {
            "text/plain": [
              "0.6944444444444445"
            ]
          },
          "metadata": {},
          "execution_count": 117
        }
      ]
    },
    {
      "cell_type": "markdown",
      "metadata": {
        "id": "pC4RHkTim6OO"
      },
      "source": [
        "### Problem 3: Come up with hypothesis/reference sentence pairs that demonstrate the relative strengths and weaknesses of the two scoring methods."
      ]
    }
  ],
  "metadata": {
    "colab": {
      "provenance": []
    },
    "kernelspec": {
      "display_name": "Python 3 (ipykernel)",
      "language": "python",
      "name": "python3"
    },
    "language_info": {
      "codemirror_mode": {
        "name": "ipython",
        "version": 3
      },
      "file_extension": ".py",
      "mimetype": "text/x-python",
      "name": "python",
      "nbconvert_exporter": "python",
      "pygments_lexer": "ipython3",
      "version": "3.12.4"
    }
  },
  "nbformat": 4,
  "nbformat_minor": 0
}